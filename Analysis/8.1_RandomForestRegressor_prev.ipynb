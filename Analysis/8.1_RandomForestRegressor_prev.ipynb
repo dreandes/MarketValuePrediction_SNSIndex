{
 "cells": [
  {
   "cell_type": "markdown",
   "metadata": {},
   "source": [
    "# Random Forest Regressor"
   ]
  },
  {
   "cell_type": "code",
   "execution_count": 1,
   "metadata": {},
   "outputs": [],
   "source": [
    "df = pd.read_csv('df_pos.csv', index_col=0)\n",
    "df = df.drop('player_name', axis=1)"
   ]
  },
  {
   "cell_type": "code",
   "execution_count": 2,
   "metadata": {},
   "outputs": [],
   "source": [
    "df_nf = df.drop('follower', axis=1)"
   ]
  },
  {
   "cell_type": "markdown",
   "metadata": {},
   "source": [
    "## No Follower"
   ]
  },
  {
   "cell_type": "code",
   "execution_count": 6,
   "metadata": {},
   "outputs": [
    {
     "name": "stdout",
     "output_type": "stream",
     "text": [
      "R2 = -0.02462035\n",
      "mse = 453.14047699\n",
      "R2 Score = -1.58346030\n",
      "R2 = 0.47199245\n",
      "mse = 327.68827195\n",
      "R2 Score = -1.19404576\n",
      "R2 = 0.17214853\n",
      "mse = 341.96040845\n",
      "R2 Score = -0.78894435\n",
      "R2 = 0.15105638\n",
      "mse = 217.84333695\n",
      "R2 Score = -3.86463195\n",
      "R2 = -0.43003682\n",
      "mse = 252.21974120\n",
      "R2 Score = -5.39939861\n",
      "R2 = 0.39910546\n",
      "mse = 647.46342537\n",
      "R2 Score = -0.33582205\n",
      "R2 = 0.49231666\n",
      "mse = 200.19763886\n",
      "R2 Score = -1.54389141\n",
      "R2 = 0.26754698\n",
      "mse = 542.48632345\n",
      "R2 Score = -0.69973109\n",
      "R2 = -0.70558640\n",
      "mse = 411.45621151\n",
      "R2 Score = -4.17945863\n",
      "R2 = 0.41465372\n",
      "mse = 224.96281486\n",
      "R2 Score = -1.91693793\n",
      "모델 성능 : R2 = 0.12085766074533377, mse = 361.9418649608286\n",
      "R2 Score = -2.1506322076449673\n"
     ]
    }
   ],
   "source": [
    "from sklearn.model_selection import KFold\n",
    "from sklearn.metrics import mean_squared_error, r2_score\n",
    "from sklearn.preprocessing import StandardScaler\n",
    "from sklearn.ensemble import RandomForestRegressor\n",
    "\n",
    "z = 10\n",
    "scores_rm = np.zeros([2, z])\n",
    "scores = np.zeros(z)\n",
    "\n",
    "cv = KFold(z, shuffle=True, random_state=0)\n",
    "for i, (idx_train, idx_test) in enumerate(cv.split(df_nf)):\n",
    "    df_train = df_nf.iloc[idx_train]\n",
    "    df_test = df_nf.iloc[idx_test]\n",
    "    \n",
    "    X_train = df_train.drop('value', axis=1).astype(float)\n",
    "    X_train = StandardScaler().fit_transform(X_train)\n",
    "    y_train = df_train['value']\n",
    "    \n",
    "    model = RandomForestRegressor(n_estimators = 1000, random_state = 42)\n",
    "    result = model.fit(X_train, y_train)\n",
    "    \n",
    "    pred = result.predict(StandardScaler().fit_transform(df_test.drop('value', axis=1)))\n",
    "    rsquared = r2_score(df_test.value, pred)\n",
    "    mse = mean_squared_error(df_test.value, pred)\n",
    "    \n",
    "    scores_rm[0, i] = rsquared\n",
    "    scores_rm[1, i] = mse\n",
    "    scores[i] = model.score(df_test.drop(\"value\", axis=1), df_test['value'])\n",
    "    \n",
    "    print(\"R2 = {:.8f}\".format(rsquared))\n",
    "    print(\"mse = {:.8f}\".format(mse))\n",
    "    print(\"R2 Score = {:.8f}\".format(scores[i]))\n",
    "    \n",
    "print(\"모델 성능 : R2 = {}, mse = {}\".format(scores_rm[0].mean(), scores_rm[1].mean()))\n",
    "print(\"R2 Score = {}\".format(scores.mean()))"
   ]
  },
  {
   "cell_type": "code",
   "execution_count": null,
   "metadata": {},
   "outputs": [],
   "source": []
  },
  {
   "cell_type": "code",
   "execution_count": 7,
   "metadata": {},
   "outputs": [
    {
     "name": "stdout",
     "output_type": "stream",
     "text": [
      "R2 = 0.30980516\n",
      "mse = 305.24010395\n",
      "R2 Score = -1.60507663\n",
      "R2 = 0.45953863\n",
      "mse = 335.41727456\n",
      "R2 Score = -2.09042532\n",
      "R2 = 0.19493005\n",
      "mse = 332.55004955\n",
      "R2 Score = -0.89633589\n",
      "R2 = 0.12984351\n",
      "mse = 223.28666711\n",
      "R2 Score = -2.93260352\n",
      "R2 = -1.66833739\n",
      "mse = 470.62240434\n",
      "R2 Score = -3.58837334\n",
      "R2 = 0.39620081\n",
      "mse = 650.59318362\n",
      "R2 Score = -0.13095463\n",
      "R2 = 0.51844791\n",
      "mse = 189.89315391\n",
      "R2 Score = -1.86300659\n",
      "R2 = 0.42157618\n",
      "mse = 428.40564891\n",
      "R2 Score = -0.55367231\n",
      "R2 = -0.34849779\n",
      "mse = 325.31204055\n",
      "R2 Score = -2.97382562\n",
      "R2 = 0.38962972\n",
      "mse = 234.58014364\n",
      "R2 Score = -2.38310103\n",
      "모델 성능 : R2 = 0.08031367978042579, mse = 349.59006701365576\n",
      "R2 Score = -1.9017374881518283\n"
     ]
    }
   ],
   "source": [
    "from sklearn.model_selection import KFold\n",
    "from sklearn.metrics import mean_squared_error, r2_score\n",
    "from sklearn.preprocessing import StandardScaler\n",
    "from sklearn.ensemble import RandomForestRegressor\n",
    "\n",
    "z = 10\n",
    "scores_rm = np.zeros([2, z])\n",
    "scores = np.zeros(z)\n",
    "\n",
    "cv = KFold(z, shuffle=True, random_state=0)\n",
    "for i, (idx_train, idx_test) in enumerate(cv.split(df)):\n",
    "    df_train = df.iloc[idx_train]\n",
    "    df_test = df.iloc[idx_test]\n",
    "    \n",
    "    X_train = df_train.drop('value', axis=1).astype(float)\n",
    "    X_train = StandardScaler().fit_transform(X_train)\n",
    "    y_train = df_train['value']\n",
    "    \n",
    "    model = RandomForestRegressor(n_estimators = 1000, random_state = 42)\n",
    "    result = model.fit(X_train, y_train)\n",
    "    \n",
    "    pred = result.predict(StandardScaler().fit_transform(df_test.drop('value', axis=1)))\n",
    "    rsquared = r2_score(df_test.value, pred)\n",
    "    mse = mean_squared_error(df_test.value, pred)\n",
    "    \n",
    "    scores_rm[0, i] = rsquared\n",
    "    scores_rm[1, i] = mse\n",
    "    scores[i] = model.score(df_test.drop('value', axis=1), df_test.value)\n",
    "    \n",
    "    print(\"R2 = {:.8f}\".format(rsquared))\n",
    "    print(\"mse = {:.8f}\".format(mse))\n",
    "    print(\"R2 Score = {:.8f}\".format(scores[i]))\n",
    "    \n",
    "print(\"모델 성능 : R2 = {}, mse = {}\".format(scores_rm[0].mean(), scores_rm[1].mean()))\n",
    "print(\"R2 Score = {}\".format(scores.mean()))"
   ]
  },
  {
   "cell_type": "code",
   "execution_count": null,
   "metadata": {},
   "outputs": [],
   "source": []
  },
  {
   "cell_type": "code",
   "execution_count": null,
   "metadata": {},
   "outputs": [],
   "source": []
  },
  {
   "cell_type": "code",
   "execution_count": null,
   "metadata": {},
   "outputs": [],
   "source": []
  },
  {
   "cell_type": "code",
   "execution_count": null,
   "metadata": {},
   "outputs": [],
   "source": []
  }
 ],
 "metadata": {
  "kernelspec": {
   "display_name": "Python 3",
   "language": "python",
   "name": "python3"
  },
  "language_info": {
   "codemirror_mode": {
    "name": "ipython",
    "version": 3
   },
   "file_extension": ".py",
   "mimetype": "text/x-python",
   "name": "python",
   "nbconvert_exporter": "python",
   "pygments_lexer": "ipython3",
   "version": "3.7.6"
  }
 },
 "nbformat": 4,
 "nbformat_minor": 4
}
